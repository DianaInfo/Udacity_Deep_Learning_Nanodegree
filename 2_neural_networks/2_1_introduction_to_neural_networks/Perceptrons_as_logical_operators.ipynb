{
 "cells": [
  {
   "cell_type": "markdown",
   "metadata": {},
   "source": [
    "# Perceptron"
   ]
  },
  {
   "cell_type": "markdown",
   "metadata": {},
   "source": [
    "To calculate the output for the perceptrons, we need to create a function that calculates the predictions of the perceptron based on the weights and bias we defined. This function can be used for all the perceptrons."
   ]
  },
  {
   "cell_type": "code",
   "execution_count": 1,
   "metadata": {},
   "outputs": [],
   "source": [
    "def calcOutputPerceptron(inputs, weights):\n",
    "    outputs = []\n",
    "    prediction_nums = []\n",
    "    for inp in inputs:\n",
    "        prediction_num = weights[0] * inp[0] + weights[1] * inp[1] + weights[2]\n",
    "        prediction_nums.append(prediction_num)\n",
    "        outputs.append(prediction_num >= 0)\n",
    "    return prediction_nums, outputs"
   ]
  },
  {
   "cell_type": "code",
   "execution_count": 2,
   "metadata": {},
   "outputs": [],
   "source": [
    "def areOutputsCorrect(expected_outputs, actual_outputs):\n",
    "    outputs_correct = []\n",
    "    output_correct = True\n",
    "    for expected_output, actual_output in zip(expected_outputs, actual_outputs):\n",
    "        correct_output = expected_output == actual_output\n",
    "        if not correct_output:\n",
    "            output_correct = False\n",
    "        outputs_correct.append(correct_output)\n",
    "    return outputs_correct, output_correct"
   ]
  },
  {
   "cell_type": "markdown",
   "metadata": {},
   "source": [
    "## Test the perceptrons\n",
    "\n",
    "We define the test inputs here in order to test the functionality of our perceptrons."
   ]
  },
  {
   "cell_type": "code",
   "execution_count": 3,
   "metadata": {},
   "outputs": [],
   "source": [
    "test_inputs = [(0,0),(0,1),(1,0),(1,1)]"
   ]
  },
  {
   "cell_type": "markdown",
   "metadata": {},
   "source": [
    "Print out the test cases with solutions to show for which inputs the perceptron calculates the correct output."
   ]
  },
  {
   "cell_type": "code",
   "execution_count": 4,
   "metadata": {},
   "outputs": [],
   "source": [
    "import pandas as pd\n",
    "\n",
    "def printTestCaseSolutions(predictions, actual_outputs, expected_outputs, areCorrect):\n",
    "    outputs = []\n",
    "    for test_input, prediction, expected_output, actual_output, isCorrect in zip (test_inputs, predictions, actual_outputs, expected_outputs, areCorrect):\n",
    "        outputs.append([test_input[0], test_input[1], prediction, expected_output, actual_output, isCorrect])\n",
    "    output = pd.DataFrame(outputs, columns=['Input 1', 'Input 2', 'Linear Combination', 'Perceptron Output', 'Expected Output', 'Is Correct'])\n",
    "    print(output.to_string(index=False))"
   ]
  },
  {
   "cell_type": "code",
   "execution_count": 5,
   "metadata": {},
   "outputs": [],
   "source": [
    "def checkSolution(weights, test_outputs):\n",
    "    prediction_nums, perceptron_outputs = calcOutputPerceptron(test_inputs, weights)\n",
    "    outputs_are_correct, output_correct = areOutputsCorrect(test_outputs, perceptron_outputs)\n",
    "    \n",
    "    if output_correct:\n",
    "        print('All test cases are correct!\\n')\n",
    "    else:\n",
    "        num_wrong = len([output for output in outputs_are_correct if output == False])\n",
    "        if num_wrong == 1:\n",
    "            verb = \"isn't\"\n",
    "        else:\n",
    "            verb = \"aren't\"\n",
    "        print(f\"{num_wrong} test case {verb} correct. Try it again!\\n\")\n",
    "    \n",
    "    printTestCaseSolutions(prediction_nums, perceptron_outputs, test_outputs, outputs_are_correct)"
   ]
  },
  {
   "cell_type": "markdown",
   "metadata": {},
   "source": [
    "## And-perceptron\n",
    "\n",
    "The task is to define the weights for an and-perceptron. The perceptron calculates the result of an and-operation with ```true``` and ```false``` inputs (in this case ```true``` is represented by a ```0``` and ```false``` by a ```1```. Therefore we need to define two weights and the bias to calculate the correct output for every two dimensional input."
   ]
  },
  {
   "cell_type": "code",
   "execution_count": 6,
   "metadata": {},
   "outputs": [
    {
     "name": "stdout",
     "output_type": "stream",
     "text": [
      "All test cases are correct!\n",
      "\n",
      " Input 1  Input 2  Linear Combination  Perceptron Output  Expected Output  Is Correct\n",
      "       0        0                -1.5              False            False        True\n",
      "       0        1                -0.5              False            False        True\n",
      "       1        0                -0.5              False            False        True\n",
      "       1        1                 0.5               True             True        True\n"
     ]
    }
   ],
   "source": [
    "# Define weights and bias for and-perceptron\n",
    "weight1 = 1\n",
    "weight2 = 1\n",
    "bias = -1.5\n",
    "and_weights = [weight1, weight2, bias]\n",
    "\n",
    "# Define correct output to test and-perceptron\n",
    "and_test_outputs = [False, False, False, True]\n",
    "\n",
    "checkSolution(and_weights, and_test_outputs)"
   ]
  },
  {
   "cell_type": "markdown",
   "metadata": {},
   "source": [
    "## Or-perceptron\n",
    "\n",
    "We proceed similar as with the And-perceptron and define our weights and bias for calculating the Or-Perceptron."
   ]
  },
  {
   "cell_type": "code",
   "execution_count": 7,
   "metadata": {},
   "outputs": [
    {
     "name": "stdout",
     "output_type": "stream",
     "text": [
      "All test cases are correct!\n",
      "\n",
      " Input 1  Input 2  Linear Combination  Perceptron Output  Expected Output  Is Correct\n",
      "       0        0                -0.5              False            False        True\n",
      "       0        1                 0.5               True             True        True\n",
      "       1        0                 0.5               True             True        True\n",
      "       1        1                 1.5               True             True        True\n"
     ]
    }
   ],
   "source": [
    "# Define weights and bias for or-perceptron\n",
    "weight1 = 1\n",
    "weight2 = 1\n",
    "bias = -0.5\n",
    "or_weights = [weight1, weight2, bias]\n",
    "\n",
    "# Define correct output to test or-perceptron\n",
    "or_test_output = [False, True, True, True]\n",
    "\n",
    "checkSolution(or_weights, or_test_output)"
   ]
  },
  {
   "cell_type": "markdown",
   "metadata": {},
   "source": [
    "# Not-perceptron\n",
    "\n",
    "To calculate the not-perceptron we only consider the second input value and ignore the first one."
   ]
  },
  {
   "cell_type": "code",
   "execution_count": 8,
   "metadata": {},
   "outputs": [
    {
     "name": "stdout",
     "output_type": "stream",
     "text": [
      "All test cases are correct!\n",
      "\n",
      " Input 1  Input 2  Linear Combination  Perceptron Output  Expected Output  Is Correct\n",
      "       0        0                   0               True             True        True\n",
      "       0        1                  -1              False            False        True\n",
      "       1        0                   0               True             True        True\n",
      "       1        1                  -1              False            False        True\n"
     ]
    }
   ],
   "source": [
    "# Define weights and bias for or-perceptron\n",
    "weight1 = 0\n",
    "weight2 = -1\n",
    "bias = 0\n",
    "not_weights = [weight1, weight2, bias]\n",
    "\n",
    "# Define correct output to test or-perceptron\n",
    "not_second_test_output = [True, False, True, False]\n",
    "\n",
    "checkSolution(not_weights, not_second_test_output)"
   ]
  },
  {
   "cell_type": "markdown",
   "metadata": {},
   "source": [
    "## XOR Multi-Layer Perceptron\n",
    "\n",
    "To build an XOR Perceptron we need reuse the already build perceptrons in order to create a Multi-Layer perceptron."
   ]
  },
  {
   "cell_type": "code",
   "execution_count": 9,
   "metadata": {},
   "outputs": [],
   "source": [
    "xor_test_outputs = [False, True, True, False]"
   ]
  },
  {
   "cell_type": "markdown",
   "metadata": {},
   "source": [
    "For the correct calculation we need to transform the boolean arrays from the other calculations to int arrays. This is needed that we can use them again as input arrays for the next perceptron."
   ]
  },
  {
   "cell_type": "code",
   "execution_count": 10,
   "metadata": {},
   "outputs": [],
   "source": [
    "def transformBoolInIntList(bool_list):\n",
    "    intList = []\n",
    "    for boolean in bool_list:\n",
    "        intList.append(int(boolean))\n",
    "    return intList"
   ]
  },
  {
   "cell_type": "markdown",
   "metadata": {},
   "source": [
    "Calculating the xor multi-layer perceptron is solved by passing the inputs through multiple single-layer perceptrons.\n",
    "\n",
    "The ```xor``` calculation is possible to combine through the ```and```, ```or``` and ```not``` calculation.\n",
    "```\n",
    "    xor = (or) and ((and) (not))\n",
    "```"
   ]
  },
  {
   "cell_type": "code",
   "execution_count": 11,
   "metadata": {},
   "outputs": [
    {
     "name": "stdout",
     "output_type": "stream",
     "text": [
      "All test cases are correct!\n",
      "\n",
      " Input 1  Input 2  Linear Combination  Perceptron Output  Expected Output  Is Correct\n",
      "       0        0                -0.5              False            False        True\n",
      "       0        1                 0.5               True             True        True\n",
      "       1        0                 0.5               True             True        True\n",
      "       1        1                -0.5              False            False        True\n"
     ]
    }
   ],
   "source": [
    "# calculate nand\n",
    "_, perceptron_outputs_and = calcOutputPerceptron(test_inputs, and_weights)\n",
    "input_for_not_perceptron = zip([0,0,0,0],transformBoolInIntList(perceptron_outputs_and))\n",
    "_, perceptron_outputs_nand = calcOutputPerceptron(input_for_not_perceptron, not_weights)\n",
    "\n",
    "# calculate or\n",
    "_, perceptron_outputs_or = calcOutputPerceptron(test_inputs, or_weights)\n",
    "\n",
    "# calculate xor\n",
    "input_for_xor_perceptron = zip(transformBoolInIntList(perceptron_outputs_nand),transformBoolInIntList(perceptron_outputs_or))\n",
    "prediction_nums, perceptron_outputs = calcOutputPerceptron(input_for_xor_perceptron, and_weights)\n",
    "\n",
    "outputs_are_correct, output_correct = areOutputsCorrect(xor_test_outputs, perceptron_outputs)\n",
    "\n",
    "\n",
    "# print solution\n",
    "if output_correct:\n",
    "    print('All test cases are correct!\\n')\n",
    "else:\n",
    "    num_wrong = len([output for output in outputs_are_correct if output == False])\n",
    "    if num_wrong == 1:\n",
    "        verb = \"isn't\"\n",
    "    else:\n",
    "        verb = \"aren't\"\n",
    "    print(f\"{num_wrong} test case {verb} correct. Try it again!\\n\")\n",
    "\n",
    "printTestCaseSolutions(prediction_nums, perceptron_outputs, xor_test_outputs, outputs_are_correct)"
   ]
  }
 ],
 "metadata": {
  "kernelspec": {
   "display_name": "Python 3",
   "language": "python",
   "name": "python3"
  },
  "language_info": {
   "codemirror_mode": {
    "name": "ipython",
    "version": 3
   },
   "file_extension": ".py",
   "mimetype": "text/x-python",
   "name": "python",
   "nbconvert_exporter": "python",
   "pygments_lexer": "ipython3",
   "version": "3.7.6"
  }
 },
 "nbformat": 4,
 "nbformat_minor": 4
}
