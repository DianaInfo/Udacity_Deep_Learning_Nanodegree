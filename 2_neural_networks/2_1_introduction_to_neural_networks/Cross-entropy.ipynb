{
 "cells": [
  {
   "cell_type": "markdown",
   "metadata": {},
   "source": [
    "# Cross-entropy\n",
    "\n",
    "Cross-entropy is a loss function, that calculates how good/bad the probabilities fit to a given event. Or how good the event fits to the given probabilities.\n",
    "\n",
    "We calculate the cross-entropy through: $- \\sum_{i=1}^{m} y_i*ln(p_i) + (1 - y_i)*ln(1 - p_i)$,    \n",
    "where $m$ is the number of classes and $y_i$ is the label for the class $i$.\n",
    "\n",
    "We want to calculate the cross entropy and return the solution as a float. Y is the list of labels and P is the list of probabilities for each label."
   ]
  },
  {
   "cell_type": "code",
   "execution_count": 1,
   "metadata": {},
   "outputs": [],
   "source": [
    "import numpy as np"
   ]
  },
  {
   "cell_type": "code",
   "execution_count": 2,
   "metadata": {},
   "outputs": [],
   "source": [
    "def cross_entropy(Y, P):\n",
    "    Y = np.float_(Y)\n",
    "    P = np.float_(P)\n",
    "    sum_cross = 0\n",
    "    for y,p in zip(Y,P):\n",
    "        sum_cross += y*np.log(p) + (1-y)*np.log(1-p)\n",
    "    return -np.sum(sum_cross)"
   ]
  },
  {
   "cell_type": "markdown",
   "metadata": {},
   "source": [
    "A shorter version would work like this."
   ]
  },
  {
   "cell_type": "code",
   "execution_count": 3,
   "metadata": {},
   "outputs": [],
   "source": [
    "def cross_entropy_shorter(Y, P):\n",
    "    Y = np.float_(Y)\n",
    "    P = np.float_(P)\n",
    "    return -np.sum(Y * np.log(P) + (1 - Y) * np.log(1 - P))"
   ]
  },
  {
   "cell_type": "markdown",
   "metadata": {},
   "source": [
    "Now let's check our solutions."
   ]
  },
  {
   "cell_type": "code",
   "execution_count": 4,
   "metadata": {},
   "outputs": [],
   "source": [
    "Y = [1,0,1,1]\n",
    "P = [0.4,0.6,0.1,0.5]\n",
    "solution = 4.8283137373"
   ]
  },
  {
   "cell_type": "code",
   "execution_count": 5,
   "metadata": {},
   "outputs": [],
   "source": [
    "calc_cross_entropy = cross_entropy(Y, P)"
   ]
  },
  {
   "cell_type": "code",
   "execution_count": 6,
   "metadata": {},
   "outputs": [
    {
     "name": "stdout",
     "output_type": "stream",
     "text": [
      "4.828313737302301\n",
      "True\n"
     ]
    }
   ],
   "source": [
    "print(calc_cross_entropy)\n",
    "print(round(calc_cross_entropy, 10) == solution)"
   ]
  },
  {
   "cell_type": "code",
   "execution_count": 7,
   "metadata": {},
   "outputs": [],
   "source": [
    "calc_cross_entropy = cross_entropy_shorter(Y, P)"
   ]
  },
  {
   "cell_type": "code",
   "execution_count": 8,
   "metadata": {},
   "outputs": [
    {
     "name": "stdout",
     "output_type": "stream",
     "text": [
      "4.828313737302301\n",
      "True\n"
     ]
    }
   ],
   "source": [
    "print(calc_cross_entropy)\n",
    "print(round(calc_cross_entropy, 10) == solution)"
   ]
  }
 ],
 "metadata": {
  "kernelspec": {
   "display_name": "Python 3",
   "language": "python",
   "name": "python3"
  },
  "language_info": {
   "codemirror_mode": {
    "name": "ipython",
    "version": 3
   },
   "file_extension": ".py",
   "mimetype": "text/x-python",
   "name": "python",
   "nbconvert_exporter": "python",
   "pygments_lexer": "ipython3",
   "version": "3.7.6"
  }
 },
 "nbformat": 4,
 "nbformat_minor": 4
}
